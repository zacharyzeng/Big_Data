{
 "cells": [
  {
   "cell_type": "code",
   "execution_count": 1,
   "metadata": {},
   "outputs": [],
   "source": [
    "from selenium import webdriver\n",
    "from bs4 import BeautifulSoup\n",
    "import time\n",
    "\n",
    "def get_one_page(url):\n",
    "    browser = webdriver.Chrome()\n",
    "    browser.get(url)\n",
    "    h = browser.find_element_by_css_selector('html')\n",
    "    t = h.get_attribute('innerHTML')\n",
    "    mypage = BeautifulSoup(t)\n",
    "    dianping_list = []\n",
    "    h = mypage.find('div', attrs={'class': 'content'})\n",
    "    i = h.find_all('div',attrs={'class':'txt'})\n",
    "    global item\n",
    "    item = []\n",
    "    for f in i:\n",
    "        title = f.find('div',attrs={'class':'tit'}).find('a').find('h4').text   #.strip('\\n')\n",
    "        remark = f.find('div',attrs={'class':'comment'}).find('a',attrs={'class':'review-num'})\n",
    "        remarks = []\n",
    "        if remark:\n",
    "            remarks.append(remark.b.string)\n",
    "        else:\n",
    "            remarks.append(' ')\n",
    "        comment = f.find('span',attrs={'class':'comment-list'}).text\n",
    "        address = f.find('div',attrs={'class':'tag-addr'}).find('span',attrs={'class':'addr'}).text\n",
    "        item.append([title,remarks,comment,address])\n",
    "    return item"
   ]
  },
  {
   "cell_type": "code",
   "execution_count": 3,
   "metadata": {},
   "outputs": [
    {
     "name": "stderr",
     "output_type": "stream",
     "text": [
      "/Users/zengxingjie/anaconda3/lib/python3.6/site-packages/bs4/__init__.py:181: UserWarning: No parser was explicitly specified, so I'm using the best available HTML parser for this system (\"lxml\"). This usually isn't a problem, but if you run this code on another system, or in a different virtual environment, it may use a different parser and behave differently.\n",
      "\n",
      "The code that caused this warning is on line 193 of the file /Users/zengxingjie/anaconda3/lib/python3.6/runpy.py. To get rid of this warning, change code that looks like this:\n",
      "\n",
      " BeautifulSoup(YOUR_MARKUP})\n",
      "\n",
      "to this:\n",
      "\n",
      " BeautifulSoup(YOUR_MARKUP, \"lxml\")\n",
      "\n",
      "  markup_type=markup_type))\n"
     ]
    },
    {
     "data": {
      "text/plain": [
       "[['大龙燚火锅(太古里店)', [None], '\\n口味.\\n环境.\\n服务.\\n', '下段166'],\n",
       " ['小龙坎老火锅(春熙店)', [None], '\\n口味.\\n环境.\\n服务.\\n', '下36郁2F'],\n",
       " ['月满大江火锅(总府路店)', [None], '\\n口味.\\n环境.1\\n服务.\\n', '总14'],\n",
       " ['老码头火锅(春熙店)', [None], '\\n口味.\\n环境.\\n服务.1\\n', '星段51'],\n",
       " ['小龙坎老火锅(春熙概念店)', [None], '\\n口味.\\n环境.\\n服务.\\n', '188时代章2'],\n",
       " ['蜀大侠火锅(春熙店)', [None], '\\n口味.\\n环境.\\n服务.\\n', '熙段8'],\n",
       " ['禄合門(太古里店)', [None], '\\n口味.1\\n环境.\\n服务.1\\n', '仙桥1'],\n",
       " ['如在蜀老火锅(春熙店)', [None], '\\n口味.\\n环境.1\\n服务.1\\n', '2461'],\n",
       " ['蜀大侠火锅(总府路店)', [None], '\\n口味.\\n环境.\\n服务.\\n', '商12'],\n",
       " ['8号(成都群光君悦酒店)', [None], '\\n口味.\\n环境.\\n服务.\\n', '熙段8'],\n",
       " ['春熙里老火锅(春熙概念店)', [None], '\\n口味.\\n环境.1\\n服务.1\\n', '暑袜583'],\n",
       " ['烤匠麻辣烤鱼(IFS店)', [None], '\\n口味.\\n环境.\\n服务.\\n', '星段1IFS国际融商7707'],\n",
       " ['凤望龙门老火锅(春熙店)', [None], '\\n口味.\\n环境.\\n服务.\\n', '188时代章2'],\n",
       " ['想吃蛙(盐市口旗舰店)', [None], '\\n口味.1\\n环境.\\n服务.\\n', '16食界plaza2'],\n",
       " ['重庆袁老四老火锅(东大街店)', [None], '\\n口味.\\n环境.\\n服务.\\n', '28']]"
      ]
     },
     "execution_count": 3,
     "metadata": {},
     "output_type": "execute_result"
    }
   ],
   "source": [
    "    get_one_page('http://www.dianping.com/chengdu/ch10/g34060r1577')"
   ]
  },
  {
   "cell_type": "code",
   "execution_count": 6,
   "metadata": {},
   "outputs": [
    {
     "ename": "NameError",
     "evalue": "name 'browser' is not defined",
     "output_type": "error",
     "traceback": [
      "\u001b[0;31m---------------------------------------------------------------------------\u001b[0m",
      "\u001b[0;31mNameError\u001b[0m                                 Traceback (most recent call last)",
      "\u001b[0;32m<ipython-input-6-18f5086d1150>\u001b[0m in \u001b[0;36m<module>\u001b[0;34m()\u001b[0m\n\u001b[0;32m----> 1\u001b[0;31m \u001b[0mnumber_spans\u001b[0m \u001b[0;34m=\u001b[0m \u001b[0mbrowser\u001b[0m\u001b[0;34m.\u001b[0m\u001b[0mfind_elements_by_css_selector\u001b[0m\u001b[0;34m(\u001b[0m\u001b[0;34m'span[class^=\"lc-\"]'\u001b[0m\u001b[0;34m)\u001b[0m\u001b[0;34m\u001b[0m\u001b[0m\n\u001b[0m",
      "\u001b[0;31mNameError\u001b[0m: name 'browser' is not defined"
     ]
    }
   ],
   "source": [
    "number_spans = browser.find_elements_by_css_selector('span[class^=\"lc-\"]')"
   ]
  },
  {
   "cell_type": "code",
   "execution_count": null,
   "metadata": {},
   "outputs": [],
   "source": []
  }
 ],
 "metadata": {
  "kernelspec": {
   "display_name": "Python 3",
   "language": "python",
   "name": "python3"
  },
  "language_info": {
   "codemirror_mode": {
    "name": "ipython",
    "version": 3
   },
   "file_extension": ".py",
   "mimetype": "text/x-python",
   "name": "python",
   "nbconvert_exporter": "python",
   "pygments_lexer": "ipython3",
   "version": "3.6.5"
  }
 },
 "nbformat": 4,
 "nbformat_minor": 2
}
